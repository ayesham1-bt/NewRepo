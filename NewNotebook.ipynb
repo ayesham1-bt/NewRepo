{
 "cells": [
  {
   "cell_type": "code",
   "execution_count": 0,
   "metadata": {
    "application/vnd.databricks.v1+cell": {
     "cellMetadata": {
      "byteLimit": 2048000,
      "rowLimit": 10000
     },
     "inputWidgets": {},
     "nuid": "d98adedc-2e74-464d-b8fc-105efb6bb116",
     "showTitle": false,
     "tableResultSettingsMap": {},
     "title": ""
    }
   },
   "outputs": [],
   "source": [
    "# Sample data\n",
    "data = [\n",
    "    (\"Alice\", 34),\n",
    "    (\"Bob\", 45),\n",
    "    (\"Charlie\", 23),\n",
    "    (\"David\", 37)\n",
    "]\n",
    "\n",
    "columns = [\"Name\", \"Age\"]\n",
    "\n",
    "# Create DataFrame\n",
    "df = spark.createDataFrame(data, schema=columns)\n",
    "\n",
    "# Write DataFrame as a table (will create a managed Delta table)\n",
    "df.write.mode(\"overwrite\").saveAsTable(\"people_table\")\n",
    "# Query the table using Spark SQL\n",
    "result = spark.sql(\"SELECT * FROM people_table WHERE Age > 30\")\n",
    "\n",
    "# Show the result\n",
    "result.show()"
   ]
  }
 ],
 "metadata": {
  "application/vnd.databricks.v1+notebook": {
   "computePreferences": null,
   "dashboards": [],
   "environmentMetadata": {
    "base_environment": "",
    "environment_version": "2"
   },
   "inputWidgetPreferences": null,
   "language": "python",
   "notebookMetadata": {
    "pythonIndentUnit": 4
   },
   "notebookName": "NewNotebook",
   "widgets": {}
  },
  "language_info": {
   "name": "python"
  }
 },
 "nbformat": 4,
 "nbformat_minor": 0
}
